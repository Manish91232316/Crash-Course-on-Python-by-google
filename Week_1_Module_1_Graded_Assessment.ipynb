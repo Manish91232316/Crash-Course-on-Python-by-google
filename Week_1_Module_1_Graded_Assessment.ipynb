{
  "nbformat": 4,
  "nbformat_minor": 0,
  "metadata": {
    "kernelspec": {
      "display_name": "Python 3",
      "language": "python",
      "name": "python3"
    },
    "language_info": {
      "codemirror_mode": {
        "name": "ipython",
        "version": 3
      },
      "file_extension": ".py",
      "mimetype": "text/x-python",
      "name": "python",
      "nbconvert_exporter": "python",
      "pygments_lexer": "ipython3",
      "version": "3.6.5"
    },
    "colab": {
      "name": "Week 1 -Module 1 Graded Assessment.ipynb",
      "provenance": [],
      "include_colab_link": true
    }
  },
  "cells": [
    {
      "cell_type": "markdown",
      "metadata": {
        "id": "view-in-github",
        "colab_type": "text"
      },
      "source": [
        "<a href=\"https://colab.research.google.com/github/Manish91232316/Crash-Course-on-Python-by-google/blob/master/Week_1_Module_1_Graded_Assessment.ipynb\" target=\"_parent\"><img src=\"https://colab.research.google.com/assets/colab-badge.svg\" alt=\"Open In Colab\"/></a>"
      ]
    },
    {
      "cell_type": "markdown",
      "metadata": {
        "id": "pTL4oP3px63D",
        "colab_type": "text"
      },
      "source": [
        "# Module 1 Graded Assessment\n"
      ]
    },
    {
      "cell_type": "code",
      "metadata": {
        "id": "0TqS_3lRx63E",
        "colab_type": "code",
        "outputId": "74ade539-9bf9-4609-d6f1-cfe018093a9e",
        "colab": {}
      },
      "source": [
        "#Write a Python script that outputs \"Automating with Python is fun!\" to the screen.\n",
        "\n",
        "print(\"Automating with Python is fun!\")"
      ],
      "execution_count": 0,
      "outputs": [
        {
          "output_type": "stream",
          "text": [
            "Automating with Python is fun!\n"
          ],
          "name": "stdout"
        }
      ]
    },
    {
      "cell_type": "code",
      "metadata": {
        "id": "kZP_3PDux63L",
        "colab_type": "code",
        "outputId": "dec593c3-e16a-4101-a5e7-64ee8c1871bb",
        "colab": {}
      },
      "source": [
        "#Fill in the blanks so that the code prints \"Yellow is the color of sunshine\".\n",
        "\n",
        "color = \"Yellow\"\n",
        "thing = \"sunshine\"\n",
        "print(color + \" is the color of \" + thing)"
      ],
      "execution_count": 0,
      "outputs": [
        {
          "output_type": "stream",
          "text": [
            "Yellow is the color of sunshine\n"
          ],
          "name": "stdout"
        }
      ]
    },
    {
      "cell_type": "code",
      "metadata": {
        "id": "LKKVJDyIx63P",
        "colab_type": "code",
        "colab": {}
      },
      "source": [
        "#Keeping in mind there are 86400 seconds per day, write a program that calculates how many seconds there are in a week, if a week is 7 days. Print the result on the screen.\n",
        "\n",
        "#Note: Your result should be in the format of just a number, not a sentence.\n",
        "\n",
        "secInMin = 60\n",
        "secInHour = 60 * secInMin\n",
        "secInDay = 24 * secInHour\n",
        "secInWeek = 7 * secInDay\n",
        "print(secInWeek)"
      ],
      "execution_count": 0,
      "outputs": []
    },
    {
      "cell_type": "code",
      "metadata": {
        "id": "jfv67PZIx63S",
        "colab_type": "code",
        "colab": {}
      },
      "source": [
        "#Use Python to calculate how many different passwords can be formed with 6 lower case English letters. \n",
        "#For a 1 letter password, there would be 26 possibilities. For a 2 letter password, each letter is independent \n",
        "#of the other, so there would be 26 times 26 possibilities. Using this information, print the amount of possible \n",
        "#passwords that can be formed with 6 letters.\n",
        "\n",
        "\n",
        "\n",
        "print(26**6)"
      ],
      "execution_count": 0,
      "outputs": []
    },
    {
      "cell_type": "code",
      "metadata": {
        "id": "Kfz9om-Nx63X",
        "colab_type": "code",
        "colab": {}
      },
      "source": [
        "#Most hard drives are divided into sectors of 512 bytes each. Our disk has a size of 16 GB. Fill in the blank \n",
        "#to calculate how many sectors the disk has.\n",
        "\n",
        "#Note: Your result should be in the format of just a number, not a sentence.\n",
        "\n",
        "disk_size = 16*1024*1024*1024\n",
        "sector_size = 512\n",
        "sector_amount = disk_size/sector_size\n",
        "\n",
        "print(sector_amount)"
      ],
      "execution_count": 0,
      "outputs": []
    },
    {
      "cell_type": "code",
      "metadata": {
        "id": "VpGW9WbCx63b",
        "colab_type": "code",
        "colab": {}
      },
      "source": [
        ""
      ],
      "execution_count": 0,
      "outputs": []
    }
  ]
}