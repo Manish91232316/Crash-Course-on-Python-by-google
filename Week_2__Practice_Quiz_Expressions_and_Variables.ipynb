{
  "nbformat": 4,
  "nbformat_minor": 0,
  "metadata": {
    "kernelspec": {
      "display_name": "Python 3",
      "language": "python",
      "name": "python3"
    },
    "language_info": {
      "codemirror_mode": {
        "name": "ipython",
        "version": 3
      },
      "file_extension": ".py",
      "mimetype": "text/x-python",
      "name": "python",
      "nbconvert_exporter": "python",
      "pygments_lexer": "ipython3",
      "version": "3.6.5"
    },
    "colab": {
      "name": " Week 2 _Practice Quiz Expressions and Variables.ipynb",
      "provenance": [],
      "include_colab_link": true
    }
  },
  "cells": [
    {
      "cell_type": "markdown",
      "metadata": {
        "id": "view-in-github",
        "colab_type": "text"
      },
      "source": [
        "<a href=\"https://colab.research.google.com/github/Manish91232316/Crash-Course-on-Python-by-google/blob/master/Week_2__Practice_Quiz_Expressions_and_Variables.ipynb\" target=\"_parent\"><img src=\"https://colab.research.google.com/assets/colab-badge.svg\" alt=\"Open In Colab\"/></a>"
      ]
    },
    {
      "cell_type": "markdown",
      "metadata": {
        "id": "RkF3BEV60Pzv",
        "colab_type": "text"
      },
      "source": [
        "# Practice Quiz: Expressions and Variables"
      ]
    },
    {
      "cell_type": "code",
      "metadata": {
        "id": "RE9hiELy0Pzx",
        "colab_type": "code",
        "colab": {},
        "outputId": "b1bcf8cf-2f3c-405e-df14-15ae26a2b189"
      },
      "source": [
        "\"\"\"\n",
        "In this scenario, two friends are eating dinner at a restaurant. The bill comes in the amount of 47.28 dollars. \n",
        "The friends decide to split the bill evenly between them, after adding 15% tip for the service. Calculate the tip, \n",
        "the total amount to pay, and each friend's share, then output a message saying \"Each person needs to pay: \" followed by \n",
        "the resulting number.\n",
        "\"\"\"\n",
        "\n",
        "\n",
        "bill = 47.28\n",
        "tip = bill * .15\n",
        "total = bill + tip\n",
        "share = total/2 \n",
        "print(\"Each person needs to pay: \"+str(share))\n"
      ],
      "execution_count": 0,
      "outputs": [
        {
          "output_type": "stream",
          "text": [
            "Automating with Python is fun!\n"
          ],
          "name": "stdout"
        }
      ]
    },
    {
      "cell_type": "code",
      "metadata": {
        "id": "kAuOQCcQ0Pz3",
        "colab_type": "code",
        "colab": {},
        "outputId": "f4441b29-e6ef-42f4-db37-50f62c97cd1c"
      },
      "source": [
        "\"\"\"\n",
        "This code is supposed to take two numbers, divide one by another so that the result is equal to 1, \n",
        "and display the result on the screen. Unfortunately, there is an error in the code. \n",
        "Find the error and fix it, so that the output is correct.\n",
        "\n",
        "\"\"\"\n",
        "\n",
        "numerator = 10\n",
        "denominator = 10\n",
        "result = numerator / denominator\n",
        "print(int(result))\n",
        "\n"
      ],
      "execution_count": 0,
      "outputs": [
        {
          "output_type": "stream",
          "text": [
            "Yellow is the color of sunshine\n"
          ],
          "name": "stdout"
        }
      ]
    },
    {
      "cell_type": "code",
      "metadata": {
        "id": "4guhEgkb0Pz7",
        "colab_type": "code",
        "colab": {}
      },
      "source": [
        "#Combine the variables to display the sentence \"How do you like Python so far?\"\n",
        "\n",
        "word1 = \"How\"\n",
        "word2 = \"do\"\n",
        "word3 = \"you\"\n",
        "word4 = \"like\"\n",
        "word5 = \"Python\"\n",
        "word6 = \"so\"\n",
        "word7 = \"far?\"\n",
        "\n",
        "print(word1+\" \"+word2+\" \"+word3+\" \"+word4+\" \"+word5+\" \"+word6+\" \"+word7)"
      ],
      "execution_count": 0,
      "outputs": []
    },
    {
      "cell_type": "code",
      "metadata": {
        "id": "TAjpl69W0P0B",
        "colab_type": "code",
        "colab": {}
      },
      "source": [
        "\"\"\"\n",
        "This code is supposed to display \"2 + 2 = 4\" on the screen, but there is an error. \n",
        "Find the error in the code and fix it, so that the output is correct.\n",
        "\"\"\"\n",
        "\n",
        "print(\"2 + 2 = \" + str(2 + 2))"
      ],
      "execution_count": 0,
      "outputs": []
    },
    {
      "cell_type": "code",
      "metadata": {
        "id": "2k4jPPSv0P0F",
        "colab_type": "code",
        "colab": {}
      },
      "source": [
        ""
      ],
      "execution_count": 0,
      "outputs": []
    },
    {
      "cell_type": "code",
      "metadata": {
        "id": "Sjo_hI960P0K",
        "colab_type": "code",
        "colab": {}
      },
      "source": [
        ""
      ],
      "execution_count": 0,
      "outputs": []
    }
  ]
}