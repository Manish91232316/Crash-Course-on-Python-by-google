{
  "nbformat": 4,
  "nbformat_minor": 0,
  "metadata": {
    "kernelspec": {
      "display_name": "Python 3",
      "language": "python",
      "name": "python3"
    },
    "language_info": {
      "codemirror_mode": {
        "name": "ipython",
        "version": 3
      },
      "file_extension": ".py",
      "mimetype": "text/x-python",
      "name": "python",
      "nbconvert_exporter": "python",
      "pygments_lexer": "ipython3",
      "version": "3.6.5"
    },
    "colab": {
      "name": "Week 2_Practice Quiz Conditionals.ipynb",
      "provenance": [],
      "include_colab_link": true
    }
  },
  "cells": [
    {
      "cell_type": "markdown",
      "metadata": {
        "id": "view-in-github",
        "colab_type": "text"
      },
      "source": [
        "<a href=\"https://colab.research.google.com/github/Manish91232316/Crash-Course-on-Python-by-google/blob/master/Week_2_Practice_Quiz_Conditionals.ipynb\" target=\"_parent\"><img src=\"https://colab.research.google.com/assets/colab-badge.svg\" alt=\"Open In Colab\"/></a>"
      ]
    },
    {
      "cell_type": "markdown",
      "metadata": {
        "id": "6HqerZ-kzq1a",
        "colab_type": "text"
      },
      "source": [
        "# Practice Quiz: Conditionals"
      ]
    },
    {
      "cell_type": "code",
      "metadata": {
        "id": "GQXIwo32zq1b",
        "colab_type": "code",
        "colab": {},
        "outputId": "7371f5ac-7736-48e9-c82e-2c3d6621820c"
      },
      "source": [
        "\"\"\"\n",
        "2.Question 2\n",
        "Complete the script by filling in the missing parts. The function receives a name, \n",
        "then returns a greeting based on whether or not that name is \"Taylor\".\n",
        "\"\"\"\n",
        "\n",
        "def greeting(name):\n",
        "  if name == \"Taylor\":\n",
        "    return \"Welcome back Taylor!\"\n",
        "  else:\n",
        "    return \"Hello there, \" + name\n",
        "\n",
        "print(greeting(\"Taylor\"))\n",
        "print(greeting(\"John\"))"
      ],
      "execution_count": 0,
      "outputs": [
        {
          "output_type": "stream",
          "text": [
            "Automating with Python is fun!\n"
          ],
          "name": "stdout"
        }
      ]
    },
    {
      "cell_type": "code",
      "metadata": {
        "id": "vCfJhAZWzq1g",
        "colab_type": "code",
        "colab": {},
        "outputId": "eda2f5ed-fb24-4573-cb57-3c3c011fc300"
      },
      "source": [
        "\"\"\"\n",
        "3.Question 3\n",
        "What’s the output of this code if number equals 10?\n",
        "\"\"\"\n",
        "\n",
        "if number > 11: \n",
        "  print(0)\n",
        "elif number != 10:\n",
        "  print(1)\n",
        "elif number >= 20 or number < 12:\n",
        "  print(2)\n",
        "else:\n",
        "  print(3)"
      ],
      "execution_count": 0,
      "outputs": [
        {
          "output_type": "stream",
          "text": [
            "Yellow is the color of sunshine\n"
          ],
          "name": "stdout"
        }
      ]
    },
    {
      "cell_type": "code",
      "metadata": {
        "id": "1Tp6Ht7hzq1j",
        "colab_type": "code",
        "colab": {},
        "outputId": "556c68d7-4eec-41b7-9ce0-6f0220d2fa0f"
      },
      "source": [
        "\"\"\"\n",
        "Is \"A dog\" smaller or larger than \"A mouse\"? Is 9999+8888 smaller or larger than 100*100? \n",
        "Replace the plus sign in the following code to let Python check it for you and then answer.\n",
        "\n",
        "\"\"\"\n",
        "\n",
        "print(\"A dog\" > \"A mouse\")\n",
        "print(9999+8888 > 100*100)\n",
        "\n",
        "# Result False True"
      ],
      "execution_count": 0,
      "outputs": [
        {
          "output_type": "stream",
          "text": [
            "False\n",
            "True\n"
          ],
          "name": "stdout"
        }
      ]
    },
    {
      "cell_type": "code",
      "metadata": {
        "id": "fQOaitN-zq1m",
        "colab_type": "code",
        "colab": {}
      },
      "source": [
        "\"\"\"\n",
        "If a filesystem has a block size of 4096 bytes, this means that a file comprised of only \n",
        "one byte will still use 4096 bytes of storage. A file made up of 4097 bytes will use 4096*2=8192 bytes \n",
        "of storage. Knowing this, can you fill in the gaps in the calculate_storage function below, \n",
        "which calculates the total number of bytes needed to store a file of a given size?\n",
        "\"\"\"\n",
        "\n",
        "\n",
        "def calculate_storage(filesize):\n",
        "    block_size = 4096\n",
        "    # Use floor division to calculate how many blocks are fully occupied\n",
        "    full_blocks = filesize//block_size\n",
        "    # Use the modulo operator to check whether there's any remainder\n",
        "    partial_block_remainder = block_size%filesize\n",
        "    # Depending on whether there's a remainder or not, return\n",
        "    # the total number of bytes required to allocate enough blocks\n",
        "    # to store your data.\n",
        "    if partial_block_remainder > 0:\n",
        "        return 8192\n",
        "    else:\n",
        "        return 4096\n",
        "        #pass\n",
        "        \n",
        "    return full_blocks\n",
        "\n",
        "print(calculate_storage(1))    # Should be 4096\n",
        "print(calculate_storage(4096)) # Should be 4096\n",
        "print(calculate_storage(4097)) # Should be 8192\n",
        "print(calculate_storage(6000)) # Should be 8192"
      ],
      "execution_count": 0,
      "outputs": []
    },
    {
      "cell_type": "code",
      "metadata": {
        "id": "1GwbmANgzq1o",
        "colab_type": "code",
        "colab": {}
      },
      "source": [
        ""
      ],
      "execution_count": 0,
      "outputs": []
    },
    {
      "cell_type": "code",
      "metadata": {
        "id": "PuurCcgxzq1s",
        "colab_type": "code",
        "colab": {}
      },
      "source": [
        ""
      ],
      "execution_count": 0,
      "outputs": []
    }
  ]
}