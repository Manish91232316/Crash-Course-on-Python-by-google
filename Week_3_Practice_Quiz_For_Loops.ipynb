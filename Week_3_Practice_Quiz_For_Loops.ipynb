{
  "nbformat": 4,
  "nbformat_minor": 0,
  "metadata": {
    "kernelspec": {
      "display_name": "Python 3",
      "language": "python",
      "name": "python3"
    },
    "language_info": {
      "codemirror_mode": {
        "name": "ipython",
        "version": 3
      },
      "file_extension": ".py",
      "mimetype": "text/x-python",
      "name": "python",
      "nbconvert_exporter": "python",
      "pygments_lexer": "ipython3",
      "version": "3.6.5"
    },
    "colab": {
      "name": "Week 3_Practice Quiz For Loops.ipynb",
      "provenance": [],
      "include_colab_link": true
    }
  },
  "cells": [
    {
      "cell_type": "markdown",
      "metadata": {
        "id": "view-in-github",
        "colab_type": "text"
      },
      "source": [
        "<a href=\"https://colab.research.google.com/github/Manish91232316/Crash-Course-on-Python-by-google/blob/master/Week_3_Practice_Quiz_For_Loops.ipynb\" target=\"_parent\"><img src=\"https://colab.research.google.com/assets/colab-badge.svg\" alt=\"Open In Colab\"/></a>"
      ]
    },
    {
      "cell_type": "markdown",
      "metadata": {
        "id": "ROkvgK0q1acs",
        "colab_type": "text"
      },
      "source": [
        "# Practice Quiz: For Loops\n"
      ]
    },
    {
      "cell_type": "code",
      "metadata": {
        "id": "u6xbUBUw1acu",
        "colab_type": "code",
        "colab": {},
        "outputId": "ce7b4690-b5ba-4907-def3-6ab44e92cacf"
      },
      "source": [
        "\"\"\"\n",
        "2.Question 2\n",
        "Fill in the blanks to make the factorial function return the factorial of n. \n",
        "Then, print the first 10 factorials (from 0 to 9) with the corresponding number. \n",
        "Remember that the factorial of a number is defined as the product of an integer and all integers before it. For example, \n",
        "the factorial of five (5!) is equal to 1*2*3*4*5=120. Also recall that the factorial of zero (0!) is equal to 1.\n",
        "\"\"\"\n",
        "def factorial(n):\n",
        "    result = 1\n",
        "    for x in range(1,n+1):\n",
        "        result = result * x\n",
        "    return result\n",
        "\n",
        "for n in range(0,10):\n",
        "    print(n, factorial(n+0))"
      ],
      "execution_count": 0,
      "outputs": [
        {
          "output_type": "stream",
          "text": [
            "Automating with Python is fun!\n"
          ],
          "name": "stdout"
        }
      ]
    },
    {
      "cell_type": "code",
      "metadata": {
        "id": "LXcOvIeV1ac3",
        "colab_type": "code",
        "colab": {},
        "outputId": "ff984364-d8bf-48a9-c42a-80f1eaea692d"
      },
      "source": [
        "\"\"\"\n",
        "3.Question 3\n",
        "Write a script that prints the first 10 cube numbers (x**3), starting with x=1 and ending with x=10.\n",
        "\"\"\"\n",
        "for x in range(1,11):\n",
        "  print(x**3)"
      ],
      "execution_count": 0,
      "outputs": [
        {
          "output_type": "stream",
          "text": [
            "Yellow is the color of sunshine\n"
          ],
          "name": "stdout"
        }
      ]
    },
    {
      "cell_type": "code",
      "metadata": {
        "id": "AWpqLT0v1ac7",
        "colab_type": "code",
        "colab": {},
        "outputId": "77b21dc8-9657-4a73-cedb-e47a205925b3"
      },
      "source": [
        "\"\"\"\n",
        "4.Question 4\n",
        "Write a script that prints the multiples of 7 between 0 and 100. \n",
        "Print one multiple per line and avoid printing any numbers that aren't multiples of 7. \n",
        "Remember that 0 is also a multiple of 7.\n",
        "\"\"\"\n",
        "\n",
        "for num in range(0,100):\n",
        "  if(num % 7==0):\n",
        "    print(num)\n",
        "  else:\n",
        "    num= num + 1"
      ],
      "execution_count": 0,
      "outputs": [
        {
          "output_type": "stream",
          "text": [
            "False\n",
            "True\n"
          ],
          "name": "stdout"
        }
      ]
    },
    {
      "cell_type": "code",
      "metadata": {
        "id": "8Z3TW5K51ac_",
        "colab_type": "code",
        "colab": {}
      },
      "source": [
        "\"\"\"5.Question 5\n",
        "The retry function tries to execute an operation that might fail, \n",
        "it retries the operation for a number of attempts. Currently the code will keep executing the function even if it succeeds. \n",
        "Fill in the blank so the code stops trying after the operation succeeded.\n",
        "\"\"\"\n",
        "def retry(operation, attempts):\n",
        "  for n in range(attempts):\n",
        "    if operation():\n",
        "      print(\"Attempt \" + str(n) + \" succeeded\")\n",
        "      break\n",
        "    else:\n",
        "      print(\"Attempt \" + str(n) + \" failed\")\n",
        "\n",
        "retry(create_user, 3)\n",
        "retry(stop_service, 5)\n"
      ],
      "execution_count": 0,
      "outputs": []
    }
  ]
}