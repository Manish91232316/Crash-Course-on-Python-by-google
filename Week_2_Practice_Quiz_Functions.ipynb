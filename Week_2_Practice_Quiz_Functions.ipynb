{
  "nbformat": 4,
  "nbformat_minor": 0,
  "metadata": {
    "kernelspec": {
      "display_name": "Python 3",
      "language": "python",
      "name": "python3"
    },
    "language_info": {
      "codemirror_mode": {
        "name": "ipython",
        "version": 3
      },
      "file_extension": ".py",
      "mimetype": "text/x-python",
      "name": "python",
      "nbconvert_exporter": "python",
      "pygments_lexer": "ipython3",
      "version": "3.6.5"
    },
    "colab": {
      "name": "Week 2_Practice Quiz Functions.ipynb",
      "provenance": [],
      "include_colab_link": true
    }
  },
  "cells": [
    {
      "cell_type": "markdown",
      "metadata": {
        "id": "view-in-github",
        "colab_type": "text"
      },
      "source": [
        "<a href=\"https://colab.research.google.com/github/Manish91232316/Crash-Course-on-Python-by-google/blob/master/Week_2_Practice_Quiz_Functions.ipynb\" target=\"_parent\"><img src=\"https://colab.research.google.com/assets/colab-badge.svg\" alt=\"Open In Colab\"/></a>"
      ]
    },
    {
      "cell_type": "markdown",
      "metadata": {
        "id": "jUeir7nh0mkg",
        "colab_type": "text"
      },
      "source": [
        "# Practice Quiz: Functions"
      ]
    },
    {
      "cell_type": "code",
      "metadata": {
        "id": "6VBfM-2k0uof",
        "colab_type": "code",
        "colab": {}
      },
      "source": [
        ""
      ],
      "execution_count": 0,
      "outputs": []
    },
    {
      "cell_type": "code",
      "metadata": {
        "id": "VJv0Nxy20mkh",
        "colab_type": "code",
        "colab": {},
        "outputId": "bcf54ebe-4275-4984-a6a4-8ddea9365f10"
      },
      "source": [
        "\"\"\"\n",
        "1.Question 1\n",
        "This function converts miles to kilometers (km).\n",
        "\n",
        "Complete the function to return the result of the conversion\n",
        "Call the function to convert the trip distance from miles to kilometers\n",
        "Fill in the blank to print the result of the conversion\n",
        "Calculate the round-trip in kilometers by doubling the result, and fill in the blank to print the result\n",
        "\"\"\"\n",
        "\n",
        "\n",
        "# 1) Complete the function to return the result of the conversion\n",
        "def convert_distance(miles):\n",
        "\t km = miles * 1.6  # approximately 1.6 km in 1 mile\n",
        "\t return km\n",
        "\n",
        "my_trip_miles = 55\n",
        "\n",
        "# 2) Convert my_trip_miles to kilometers by calling the function above\n",
        "my_trip_km = convert_distance(my_trip_miles)\n",
        "\n",
        "# 3) Fill in the blank to print the result of the conversion\n",
        "print(\"The distance in kilometers is \" + str(my_trip_km))\n",
        "\n",
        "# 4) Calculate the round-trip in kilometers by doubling the result,\n",
        "#    and fill in the blank to print the result\n",
        "#print(my_trip_km*2)\n",
        "print(\"The round-trip in kilometers is \" + str(my_trip_km*2))\n",
        "\n"
      ],
      "execution_count": 0,
      "outputs": [
        {
          "output_type": "stream",
          "text": [
            "Automating with Python is fun!\n"
          ],
          "name": "stdout"
        }
      ]
    },
    {
      "cell_type": "code",
      "metadata": {
        "id": "wPadI5dQ0mkl",
        "colab_type": "code",
        "colab": {},
        "outputId": "417c0e4f-6b6a-42aa-a2ca-aa61726c3320"
      },
      "source": [
        "\"\"\"\n",
        "2.Question 2\n",
        "This function compares two numbers and returns them in increasing order.\n",
        "\n",
        "Fill in the blanks, so the print statement displays the result of the function call in order.\n",
        "Hint: if a function returns multiple values, don't forget to store these values in multiple variables\n",
        "\"\"\"\n",
        "\n",
        "# This function compares two numbers and returns them\n",
        "# in increasing order.\n",
        "def order_numbers(number1, number2):\n",
        "\tif number2 > number1:\n",
        "\t\treturn number1, number2\n",
        "\telse:\n",
        "\t\treturn number2, number1\n",
        "\n",
        "# 1) Fill in the blanks so the print statement displays the result\n",
        "#    of the function call\n",
        "smaller, bigger = order_numbers(100, 99)\n",
        "print(smaller, bigger)"
      ],
      "execution_count": 0,
      "outputs": [
        {
          "output_type": "stream",
          "text": [
            "Yellow is the color of sunshine\n"
          ],
          "name": "stdout"
        }
      ]
    },
    {
      "cell_type": "code",
      "metadata": {
        "id": "i1AZ7pt80mko",
        "colab_type": "code",
        "colab": {}
      },
      "source": [
        "\"\"\"\n",
        "3.Question 3\n",
        "Let's revisit our lucky_number function. We want to change it, \n",
        "so that instead of printing the message, it returns the message. \n",
        "This way, the calling line can print the message, or do something else with it \n",
        "if needed. Fill in the blanks to complete the code to make it work.\n",
        "\n",
        "\"\"\"\n",
        "\n",
        "def lucky_number(name):\n",
        "  number = len(name) * 9\n",
        "  greetings = \"Hello \" + name + \". Your lucky number is \" + str(number)\n",
        "  return greetings\n",
        "\t    \n",
        "print(lucky_number(\"Kay\"))\n",
        "print(lucky_number(\"Cameron\"))"
      ],
      "execution_count": 0,
      "outputs": []
    },
    {
      "cell_type": "code",
      "metadata": {
        "id": "awJqejdG0mkr",
        "colab_type": "code",
        "colab": {}
      },
      "source": [
        ""
      ],
      "execution_count": 0,
      "outputs": []
    },
    {
      "cell_type": "code",
      "metadata": {
        "id": "Tc18k8Y40mku",
        "colab_type": "code",
        "colab": {}
      },
      "source": [
        ""
      ],
      "execution_count": 0,
      "outputs": []
    },
    {
      "cell_type": "code",
      "metadata": {
        "id": "TgX9quoT0mkw",
        "colab_type": "code",
        "colab": {}
      },
      "source": [
        ""
      ],
      "execution_count": 0,
      "outputs": []
    }
  ]
}